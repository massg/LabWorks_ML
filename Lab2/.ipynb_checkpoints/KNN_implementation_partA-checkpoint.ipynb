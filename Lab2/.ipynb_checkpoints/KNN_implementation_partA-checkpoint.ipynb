{
 "cells": [
  {
   "cell_type": "code",
   "execution_count": 1,
   "metadata": {},
   "outputs": [],
   "source": [
    "import numpy as np\n",
    "import pandas\n",
    "from pandas.plotting import scatter_matrix\n",
    "import matplotlib.pyplot as plt\n",
    "from sklearn.metrics.pairwise import euclidean_distances"
   ]
  },
  {
   "cell_type": "code",
   "execution_count": 2,
   "metadata": {},
   "outputs": [
    {
     "name": "stdout",
     "output_type": "stream",
     "text": [
      "2\n"
     ]
    }
   ],
   "source": [
    "#1 create vectors and count equal values in both\n",
    "v1 = np.array([1,6,7,9])\n",
    "v2 = np.array([1,0,6,9])\n",
    "count = (np.sum(v1==v2))\n",
    "print (count)"
   ]
  },
  {
   "cell_type": "code",
   "execution_count": 3,
   "metadata": {},
   "outputs": [
    {
     "name": "stdout",
     "output_type": "stream",
     "text": [
      "(10, 3)\n",
      "10\n",
      "3\n",
      "[[9 3 1]\n",
      " [5 7 1]\n",
      " [3 5 1]\n",
      " [5 9 0]\n",
      " [9 4 0]\n",
      " [5 3 1]\n",
      " [3 8 0]\n",
      " [6 9 0]\n",
      " [6 1 0]\n",
      " [9 3 1]]\n"
     ]
    }
   ],
   "source": [
    "#2 Matrix creation using numpy\n",
    "M = np.random.randint(1,10,(10,3))\n",
    "print (M.shape)\n",
    "print (M.shape[0])\n",
    "print (M.shape[1])\n",
    "for i in range(M.shape[0]):\n",
    "    if ((M[i][0]+M[i][1])%4==0):\n",
    "        M[i][2]=1\n",
    "    else:\n",
    "        M[i][2]=0\n",
    "print (M)"
   ]
  },
  {
   "cell_type": "code",
   "execution_count": 4,
   "metadata": {},
   "outputs": [],
   "source": [
    "#3\n",
    "cols = np.array([\"X1\",\"X2\",\"Y\"])\n",
    "df = pandas.DataFrame(M,columns=cols)"
   ]
  },
  {
   "cell_type": "code",
   "execution_count": 5,
   "metadata": {},
   "outputs": [
    {
     "data": {
      "image/png": "[encoded data removed]",
      "text/plain": [
       "<Figure size 432x288 with 1 Axes>"
      ]
     },
     "metadata": {
      "needs_background": "light"
     },
     "output_type": "display_data"
    }
   ],
   "source": [
    "#4 scatter plot\n",
    "col=df.Y.map({0:'b',1:'r'})\n",
    "df.plot.scatter(x='X1',y='X2',c=col)\n",
    "plt.show()"
   ]
  },
  {
   "cell_type": "code",
   "execution_count": 6,
   "metadata": {},
   "outputs": [
    {
     "name": "stdout",
     "output_type": "stream",
     "text": [
      "0    36\n",
      "1     4\n",
      "2     4\n",
      "3    16\n",
      "4    25\n",
      "5     4\n",
      "6    25\n",
      "7     9\n",
      "8    25\n",
      "9    36\n",
      "dtype: int64\n",
      "184\n"
     ]
    }
   ],
   "source": [
    "#5 \n",
    "\n",
    "print(np.square(df['X1']-df['X2'])) #squared error\n",
    "sum_=np.sum(np.square(df['X1']-df['X2'])) #sum of sq error\n",
    "print(sum_)"
   ]
  },
  {
   "cell_type": "code",
   "execution_count": 7,
   "metadata": {},
   "outputs": [
    {
     "name": "stdout",
     "output_type": "stream",
     "text": [
      "13.564659966250536\n",
      "13.564659966250536\n",
      "0.0\n"
     ]
    }
   ],
   "source": [
    "#6 \n",
    "euclidean = np.linalg.norm(df['X1']-df['X2'])\n",
    "actual = np.sqrt(sum_)\n",
    "print(euclidean)\n",
    "print(actual)\n",
    "print (euclidean-actual) #difference"
   ]
  },
  {
   "cell_type": "code",
   "execution_count": 8,
   "metadata": {},
   "outputs": [
    {
     "name": "stdout",
     "output_type": "stream",
     "text": [
      "[[0 9]]\n",
      "[10.81665383  5.38516481  5.          5.         10.29563014  7.81024968\n",
      "  3.16227766  6.         10.         10.81665383]\n"
     ]
    }
   ],
   "source": [
    "#7\n",
    "V=np.random.randint(10,size=(1,2))\n",
    "distance=np.zeros(M.shape[0])\n",
    "for i in range(M.shape[0]):\n",
    "    distance[i]=np.linalg.norm(M[i][0:2]-V)\n",
    "print(V)\n",
    "print(distance)"
   ]
  },
  {
   "cell_type": "code",
   "execution_count": 9,
   "metadata": {},
   "outputs": [
    {
     "name": "stdout",
     "output_type": "stream",
     "text": [
      "[[1 2 3]\n",
      " [2 3 4]]\n",
      "[[1 2 3 6]\n",
      " [2 3 4 7]]\n",
      "[[1 2 3 6]\n",
      " [2 3 4 7]\n",
      " [1 1 1 1]]\n"
     ]
    }
   ],
   "source": [
    "#8\n",
    "A=np.array([[1,2,3],[2,3,4]])\n",
    "print(A)\n",
    "C=np.array([6,7])\n",
    "A=np.column_stack((A,C))\n",
    "print(A)\n",
    "R=np.array([1,1,1,1])\n",
    "A=np.vstack((A,R))\n",
    "print(A)"
   ]
  },
  {
   "cell_type": "code",
   "execution_count": 10,
   "metadata": {},
   "outputs": [
    {
     "name": "stdout",
     "output_type": "stream",
     "text": [
      "(100, 3)\n",
      "[0 1 2 3 4 5 6 7 8 9]\n",
      "[[0.         0.         7.61577311]\n",
      " [0.         1.         2.82842712]\n",
      " [0.         2.         6.70820393]\n",
      " [0.         3.         5.        ]\n",
      " [0.         4.         4.47213595]\n",
      " [0.         5.         2.82842712]\n",
      " [0.         6.         9.21954446]\n",
      " [0.         7.         7.        ]\n",
      " [0.         8.         3.60555128]\n",
      " [0.         9.         4.12310563]\n",
      " [1.         0.         7.61577311]\n",
      " [1.         1.         6.32455532]\n",
      " [1.         2.         2.23606798]\n",
      " [1.         3.         4.12310563]\n",
      " [1.         4.         2.        ]\n",
      " [1.         5.         2.82842712]\n",
      " [1.         6.         5.38516481]\n",
      " [1.         7.         5.        ]\n",
      " [1.         8.         2.23606798]\n",
      " [1.         9.         3.        ]\n",
      " [2.         0.         5.09901951]\n",
      " [2.         1.         5.65685425]\n",
      " [2.         2.         5.        ]\n",
      " [2.         3.         2.23606798]\n",
      " [2.         4.         2.        ]\n",
      " [2.         5.         4.        ]\n",
      " [2.         6.         3.        ]\n",
      " [2.         7.         2.23606798]\n",
      " [2.         8.         4.12310563]\n",
      " [2.         9.         2.23606798]\n",
      " [3.         0.         9.48683298]\n",
      " [3.         1.         8.24621125]\n",
      " [3.         2.         1.        ]\n",
      " [3.         3.         6.08276253]\n",
      " [3.         4.         4.        ]\n",
      " [3.         5.         4.47213595]\n",
      " [3.         6.         6.40312424]\n",
      " [3.         7.         6.70820393]\n",
      " [3.         8.         3.60555128]\n",
      " [3.         9.         5.        ]\n",
      " [4.         0.         8.06225775]\n",
      " [4.         1.         3.60555128]\n",
      " [4.         2.         5.83095189]\n",
      " [4.         3.         5.09901951]\n",
      " [4.         4.         4.12310563]\n",
      " [4.         5.         2.23606798]\n",
      " [4.         6.         9.05538514]\n",
      " [4.         7.         7.07106781]\n",
      " [4.         8.         2.82842712]\n",
      " [4.         9.         4.        ]\n",
      " [5.         0.         4.24264069]\n",
      " [5.         1.         2.82842712]\n",
      " [5.         2.         6.08276253]\n",
      " [5.         3.         1.        ]\n",
      " [5.         4.         2.        ]\n",
      " [5.         5.         2.82842712]\n",
      " [5.         6.         5.38516481]\n",
      " [5.         7.         3.        ]\n",
      " [5.         8.         3.60555128]\n",
      " [5.         9.         1.        ]\n",
      " [6.         0.         8.06225775]\n",
      " [6.         1.         8.06225775]\n",
      " [6.         2.         3.16227766]\n",
      " [6.         3.         5.09901951]\n",
      " [6.         4.         3.60555128]\n",
      " [6.         5.         5.        ]\n",
      " [6.         6.         4.24264069]\n",
      " [6.         7.         5.09901951]\n",
      " [6.         8.         4.47213595]\n",
      " [6.         9.         4.47213595]\n",
      " [7.         0.         9.8488578 ]\n",
      " [7.         1.         8.06225775]\n",
      " [7.         2.         0.        ]\n",
      " [7.         3.         6.32455532]\n",
      " [7.         4.         4.12310563]\n",
      " [7.         5.         4.12310563]\n",
      " [7.         6.         7.21110255]\n",
      " [7.         7.         7.21110255]\n",
      " [7.         8.         3.16227766]\n",
      " [7.         9.         5.09901951]\n",
      " [8.         0.         4.12310563]\n",
      " [8.         1.         1.        ]\n",
      " [8.         2.         8.        ]\n",
      " [8.         3.         2.82842712]\n",
      " [8.         4.         4.12310563]\n",
      " [8.         5.         4.12310563]\n",
      " [8.         6.         7.21110255]\n",
      " [8.         7.         4.47213595]\n",
      " [8.         8.         5.09901951]\n",
      " [8.         9.         3.16227766]\n",
      " [9.         0.         7.61577311]\n",
      " [9.         1.         2.82842712]\n",
      " [9.         2.         6.70820393]\n",
      " [9.         3.         5.        ]\n",
      " [9.         4.         4.47213595]\n",
      " [9.         5.         2.82842712]\n",
      " [9.         6.         9.21954446]\n",
      " [9.         7.         7.        ]\n",
      " [9.         8.         3.60555128]\n",
      " [9.         9.         4.12310563]]\n"
     ]
    }
   ],
   "source": [
    "#9\n",
    "M1=np.random.randint(10,size=(10,2))\n",
    "distance_M=np.zeros((M.shape[0]*M1.shape[0],3))\n",
    "print(distance_M.shape)\n",
    "print(np.arange(10))\n",
    "a=0\n",
    "eucli=euclidean_distances(M[:,0:2],M1)\n",
    "for i in range(M.shape[0]):\n",
    "    for j in range(M1.shape[0]):\n",
    "        distance_M[a][0]=i\n",
    "        distance_M[a][1]=j\n",
    "        distance_M[a][2]=eucli[i][j]\n",
    "        a=a+1\n",
    "print(distance_M)\n"
   ]
  },
  {
   "cell_type": "code",
   "execution_count": 11,
   "metadata": {},
   "outputs": [
    {
     "name": "stdout",
     "output_type": "stream",
     "text": [
      "[[7.         2.         0.        ]\n",
      " [3.         2.         1.        ]\n",
      " [5.         9.         1.        ]\n",
      " [5.         3.         1.        ]\n",
      " [8.         1.         1.        ]\n",
      " [5.         4.         2.        ]\n",
      " [2.         4.         2.        ]\n",
      " [1.         4.         2.        ]\n",
      " [2.         9.         2.23606798]\n",
      " [2.         7.         2.23606798]\n",
      " [2.         3.         2.23606798]\n",
      " [4.         5.         2.23606798]\n",
      " [1.         8.         2.23606798]\n",
      " [1.         2.         2.23606798]\n",
      " [5.         5.         2.82842712]\n",
      " [5.         1.         2.82842712]\n",
      " [0.         5.         2.82842712]\n",
      " [0.         1.         2.82842712]\n",
      " [8.         3.         2.82842712]\n",
      " [4.         8.         2.82842712]\n",
      " [1.         5.         2.82842712]\n",
      " [9.         1.         2.82842712]\n",
      " [9.         5.         2.82842712]\n",
      " [1.         9.         3.        ]\n",
      " [5.         7.         3.        ]\n",
      " [2.         6.         3.        ]\n",
      " [7.         8.         3.16227766]\n",
      " [6.         2.         3.16227766]\n",
      " [8.         9.         3.16227766]\n",
      " [5.         8.         3.60555128]\n",
      " [3.         8.         3.60555128]\n",
      " [0.         8.         3.60555128]\n",
      " [9.         8.         3.60555128]\n",
      " [4.         1.         3.60555128]\n",
      " [6.         4.         3.60555128]\n",
      " [4.         9.         4.        ]\n",
      " [2.         5.         4.        ]\n",
      " [3.         4.         4.        ]\n",
      " [7.         4.         4.12310563]\n",
      " [7.         5.         4.12310563]\n",
      " [8.         0.         4.12310563]\n",
      " [8.         4.         4.12310563]\n",
      " [8.         5.         4.12310563]\n",
      " [4.         4.         4.12310563]\n",
      " [9.         9.         4.12310563]\n",
      " [2.         8.         4.12310563]\n",
      " [1.         3.         4.12310563]\n",
      " [0.         9.         4.12310563]\n",
      " [6.         6.         4.24264069]\n",
      " [5.         0.         4.24264069]\n",
      " [3.         5.         4.47213595]\n",
      " [9.         4.         4.47213595]\n",
      " [0.         4.         4.47213595]\n",
      " [6.         8.         4.47213595]\n",
      " [8.         7.         4.47213595]\n",
      " [6.         9.         4.47213595]\n",
      " [1.         7.         5.        ]\n",
      " [6.         5.         5.        ]\n",
      " [2.         2.         5.        ]\n",
      " [3.         9.         5.        ]\n",
      " [0.         3.         5.        ]\n",
      " [9.         3.         5.        ]\n",
      " [6.         7.         5.09901951]\n",
      " [2.         0.         5.09901951]\n",
      " [7.         9.         5.09901951]\n",
      " [6.         3.         5.09901951]\n",
      " [8.         8.         5.09901951]\n",
      " [4.         3.         5.09901951]\n",
      " [1.         6.         5.38516481]\n",
      " [5.         6.         5.38516481]\n",
      " [2.         1.         5.65685425]\n",
      " [4.         2.         5.83095189]\n",
      " [3.         3.         6.08276253]\n",
      " [5.         2.         6.08276253]\n",
      " [7.         3.         6.32455532]\n",
      " [1.         1.         6.32455532]\n",
      " [3.         6.         6.40312424]\n",
      " [9.         2.         6.70820393]\n",
      " [3.         7.         6.70820393]\n",
      " [0.         2.         6.70820393]\n",
      " [9.         7.         7.        ]\n",
      " [0.         7.         7.        ]\n",
      " [4.         7.         7.07106781]\n",
      " [8.         6.         7.21110255]\n",
      " [7.         7.         7.21110255]\n",
      " [7.         6.         7.21110255]\n",
      " [1.         0.         7.61577311]\n",
      " [9.         0.         7.61577311]\n",
      " [0.         0.         7.61577311]\n",
      " [8.         2.         8.        ]\n",
      " [7.         1.         8.06225775]\n",
      " [6.         0.         8.06225775]\n",
      " [4.         0.         8.06225775]\n",
      " [6.         1.         8.06225775]\n",
      " [3.         1.         8.24621125]\n",
      " [4.         6.         9.05538514]\n",
      " [0.         6.         9.21954446]\n",
      " [9.         6.         9.21954446]\n",
      " [3.         0.         9.48683298]\n",
      " [7.         0.         9.8488578 ]]\n"
     ]
    }
   ],
   "source": [
    "#10\n",
    "sorted_M=distance_M[distance_M[:,2].argsort()]\n",
    "print(sorted_M)"
   ]
  },
  {
   "cell_type": "code",
   "execution_count": 12,
   "metadata": {},
   "outputs": [
    {
     "name": "stdout",
     "output_type": "stream",
     "text": [
      "5\n",
      "[[7. 2. 0.]\n",
      " [3. 2. 1.]\n",
      " [5. 9. 1.]\n",
      " [5. 3. 1.]\n",
      " [8. 1. 1.]]\n"
     ]
    }
   ],
   "source": [
    "#11\n",
    "k = int(input())\n",
    "k_sort=sorted_M[0:k,:]\n",
    "print(k_sort)"
   ]
  },
  {
   "cell_type": "code",
   "execution_count": 13,
   "metadata": {},
   "outputs": [
    {
     "name": "stdout",
     "output_type": "stream",
     "text": [
      "0\n",
      "1\n",
      "1\n",
      "1\n",
      "1\n"
     ]
    }
   ],
   "source": [
    "#12\n",
    "for i in range(k_sort.shape[0]):\n",
    "    countOne =np.count_nonzero(k_sort[i]==1)\n",
    "    countZero =np.count_nonzero(k_sort[i]==0)\n",
    "    if countOne > countZero:\n",
    "        print(1)\n",
    "    else:\n",
    "        print(0)"
   ]
  },
  {
   "cell_type": "code",
   "execution_count": null,
   "metadata": {},
   "outputs": [],
   "source": [
    "\n"
   ]
  }
 ],
 "metadata": {
  "kernelspec": {
   "display_name": "Python 3",
   "language": "python",
   "name": "python3"
  },
  "language_info": {
   "codemirror_mode": {
    "name": "ipython",
    "version": 3
   },
   "file_extension": ".py",
   "mimetype": "text/x-python",
   "name": "python",
   "nbconvert_exporter": "python",
   "pygments_lexer": "ipython3",
   "version": "3.8.3"
  }
 },
 "nbformat": 4,
 "nbformat_minor": 4
}
